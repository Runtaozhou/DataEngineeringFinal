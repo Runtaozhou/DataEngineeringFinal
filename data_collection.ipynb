{
 "cells": [
  {
   "cell_type": "markdown",
   "id": "4982510a-e782-4209-bb04-9d6475020511",
   "metadata": {},
   "source": [
    "## Importing the Library"
   ]
  },
  {
   "cell_type": "code",
   "execution_count": 1,
   "id": "de986431-3005-4f84-9f7a-09548d2063e2",
   "metadata": {},
   "outputs": [],
   "source": [
    "import numpy as np\n",
    "import pandas as pd\n",
    "import matplotlib.pyplot as plt \n",
    "import requests \n",
    "import os \n",
    "import json\n",
    "from iso3166 import countries\n",
    "import plotly.express as px\n",
    "TMDB_API_KEY = os.getenv('TMDB_API_KEY')\n"
   ]
  },
  {
   "cell_type": "markdown",
   "id": "cd330213-52b8-425d-8f50-db41d702560a",
   "metadata": {},
   "source": [
    "##  Data Collection \n",
    "This is the first step of the project. I'll use TMDB API to collect movie data, including the name, the date, language, the genre, etc...."
   ]
  },
  {
   "cell_type": "markdown",
   "id": "958d3a8e-cfd0-4434-85b0-0654bc6c2613",
   "metadata": {},
   "source": [
    "### genre collection\n",
    "\n",
    "collecting the genres from the API and put them into a list for future movie data collection based on those genres. "
   ]
  },
  {
   "cell_type": "code",
   "execution_count": null,
   "id": "fbb728a2-995b-4be2-8220-76c1e58ff1ff",
   "metadata": {},
   "outputs": [],
   "source": [
    "# first, I would like to discover the type of movie using genre end point in the API \n",
    "import requests\n",
    "root = 'https://api.themoviedb.org/3/'\n",
    "endpoint = \"genre/movie/list\"\n",
    "parameters = {'format':'json',\n",
    "              'offset':0,\n",
    "              'limit':250,\n",
    "              'language': 'en',\n",
    "              'api_key': TMDB_API_KEY\n",
    "             }\n",
    "\n",
    "headers = {\"accept\": \"application/json\"}\n",
    "response = requests.get(root+endpoint, params = parameters, headers=headers)\n",
    "genre_dict_str = response.text"
   ]
  },
  {
   "cell_type": "code",
   "execution_count": null,
   "id": "ddabe1e0-27a7-4466-aca2-653860175dc7",
   "metadata": {},
   "outputs": [],
   "source": [
    "# then convert the response into a dictionary \n",
    "genre_dict = res = json.loads(genre_dict_str)"
   ]
  },
  {
   "cell_type": "code",
   "execution_count": null,
   "id": "80cfcd64-f8e5-4399-a8b3-f14ef5a96343",
   "metadata": {},
   "outputs": [],
   "source": [
    "# finally collect genre names in the dictionary and convert them into a list \n",
    "genre_list =  [x['name'] for x in genre_dict['genres'] ]\n",
    "genre_list"
   ]
  },
  {
   "cell_type": "markdown",
   "id": "a2a378a4-2a67-40ab-8138-6626dd4277f5",
   "metadata": {},
   "source": [
    "### movie data collection from different genres\n",
    "\n",
    "based on the movie genre, I would like to collect the top 500 movies from each genre"
   ]
  },
  {
   "cell_type": "code",
   "execution_count": null,
   "id": "cbb589dc-8f2b-43a5-9106-527f16319fcf",
   "metadata": {},
   "outputs": [],
   "source": [
    "# based on the movie genre, I would like to collect the top 500 movies from each genre\n",
    "root = 'https://api.themoviedb.org/3/'\n",
    "endpoint = 'discover/movie'\n",
    "parameters = {\n",
    "    'format':'json',\n",
    "    'language': 'en-US',\n",
    "    'include_video':False,\n",
    "    'include_adult':False,\n",
    "    'page':2,\n",
    "    'with_genres':'Action',\n",
    "    'api_key': TMDB_API_KEY\n",
    "}\n",
    "\n",
    "headers = {\"accept\": \"application/json\"}\n",
    "\n",
    "response = requests.get(root+endpoint, params = parameters, headers=headers)"
   ]
  },
  {
   "cell_type": "code",
   "execution_count": null,
   "id": "a125f8cc-fbca-4c1a-ba48-ce25064a39b1",
   "metadata": {},
   "outputs": [],
   "source": [
    "txt_resp = json.loads(response.text)"
   ]
  },
  {
   "cell_type": "markdown",
   "id": "8ab8ee2d-65dd-4d00-b6f6-7e85f9d76128",
   "metadata": {},
   "source": [
    "### testing to see the result of the movie details \n"
   ]
  },
  {
   "cell_type": "code",
   "execution_count": null,
   "id": "6dd16c22-991d-4943-8528-8b91b0101e97",
   "metadata": {},
   "outputs": [],
   "source": [
    "root = 'https://api.themoviedb.org/3/'\n",
    "id =  670292\n",
    "endpoint = f'movie/{id}'\n",
    "parameters = {'format':'json',\n",
    "              'api_key': TMDB_API_KEY\n",
    "             }\n",
    "response = requests.get(root+endpoint,params = parameters, headers=headers)\n"
   ]
  },
  {
   "cell_type": "code",
   "execution_count": null,
   "id": "050a0569-f6c4-4f24-84f4-c8f5759fd677",
   "metadata": {},
   "outputs": [],
   "source": [
    "response"
   ]
  },
  {
   "cell_type": "code",
   "execution_count": null,
   "id": "40c28c73-a58f-4abd-a9db-437ef614d2f2",
   "metadata": {},
   "outputs": [],
   "source": [
    "txt = json.loads(response.text)"
   ]
  },
  {
   "cell_type": "code",
   "execution_count": null,
   "id": "793d1297-8a53-4892-9369-ad4e80e59f22",
   "metadata": {},
   "outputs": [],
   "source": [
    "txt"
   ]
  },
  {
   "cell_type": "code",
   "execution_count": null,
   "id": "0d1b6a4c-2e91-48d8-a202-a2879d48649d",
   "metadata": {},
   "outputs": [],
   "source": [
    "\n",
    "# this function will help us build a data frame with a specific genre\n",
    "def movie_collection (genre_list):\n",
    "    # predefine the dataframe that we are building\n",
    "    movie_df = pd.DataFrame(columns= ['id','title','genre','release_date','language','description','runtime','poster_image','score'])\n",
    "    for genre in genre_list:\n",
    "        for page in range(1,500,1):\n",
    "            try:\n",
    "                # making api calls\n",
    "                headers = {\"accept\": \"application/json\"}\n",
    "                root = 'https://api.themoviedb.org/3/'\n",
    "                endpoint = 'discover/movie'\n",
    "                parameters = {\n",
    "                    'format':'json',\n",
    "                    'language': 'en-US',\n",
    "                    'include_video':False,\n",
    "                    'include_adult':False,\n",
    "                    'page':page,\n",
    "                    'with_genres': genre,\n",
    "                    'sort_by':'popularity.desc',\n",
    "                    'api_key': TMDB_API_KEY\n",
    "                }\n",
    "                response = requests.get(root+endpoint, params = parameters, headers=headers)\n",
    "                movie_list_txt = json.loads(response.text)['results']\n",
    "                # iteratively put rows into a dataframe. \n",
    "                for movie in movie_list_txt:\n",
    "                    attribute_lst = movie_detail_extraction(movie['id'])\n",
    "                    movie_df.loc[len(movie_df)] = attribute_lst\n",
    "            except:\n",
    "                continue\n",
    "    return movie_df\n",
    "\n",
    "\n",
    "\n",
    "def movie_detail_extraction(movie_id):\n",
    "    root = 'https://api.themoviedb.org/3/'\n",
    "    id =  movie_id\n",
    "    endpoint = f'movie/{movie_id}'\n",
    "    parameters = {'format':'json',\n",
    "              'api_key': TMDB_API_KEY\n",
    "             }\n",
    "    response = requests.get(root+endpoint,params = parameters, headers=headers)\n",
    "    movie_detail_txt = json.loads(response.text)\n",
    "    genres = [x[\"name\"] for x in movie_detail_txt['genres']]\n",
    "    try:\n",
    "        attribute_list =[movie_detail_txt['id'],movie_detail_txt['original_title'],genres,movie_detail_txt['release_date'],movie_detail_txt['original_language'],movie_detail_txt['overview'],movie_detail_txt['runtime'],'https://image.tmdb.org/t/p/original'+movie_detail_txt['poster_path'],\"{:.1f}\".format(float(movie_detail_txt['vote_average']))]\n",
    "    except:\n",
    "         attribute_list = [movie_detail_txt['id'],movie_detail_txt['original_title'], genres, movie_detail_txt['release_date'],movie_detail_txt['original_language'],movie_detail_txt['overview'],movie_detail_txt['runtime'],None,\"{:.1f}\".format(float(movie_detail_txt['vote_average']))]\n",
    "    return attribute_list\n",
    "\n",
    "\n"
   ]
  },
  {
   "cell_type": "code",
   "execution_count": null,
   "id": "ffb478f9-4348-408d-841b-5fa5b55d256a",
   "metadata": {},
   "outputs": [],
   "source": [
    "# this function will help us build a data frame with a specific genre\n",
    "\n",
    "def movie_collection (genre_list):\n",
    "    movie_df = pd.DataFrame(columns= ['id','title','genre','release_date','language','description','runtime','poster_image','score'])\n",
    "    for genre in genre_list:\n",
    "        for page in range(1,500,1):\n",
    "            try:\n",
    "                headers = {\"accept\": \"application/json\"}\n",
    "                root = 'https://api.themoviedb.org/3/'\n",
    "                endpoint = 'discover/movie'\n",
    "                parameters = {\n",
    "                    'format':'json',\n",
    "                    'language': 'en-US',\n",
    "                    'include_video':False,\n",
    "                    'include_adult':False,\n",
    "                    'page':page,\n",
    "                    'with_genres': genre,\n",
    "                    'sort_by':'popularity.desc',\n",
    "                    'api_key': TMDB_API_KEY\n",
    "                }\n",
    "                response = requests.get(root+endpoint, params = parameters, headers=headers)\n",
    "                movie_list_txt = json.loads(response.text)['results']\n",
    "                for movie in movie_list_txt:\n",
    "                    attribute_lst = movie_detail_extraction(movie['id'])\n",
    "                    movie_df.loc[len(movie_df)] = attribute_lst\n",
    "                if(page%50==0):\n",
    "                    print(len(movie_df))\n",
    "            except:\n",
    "                continue\n",
    "    return movie_df\n",
    "\n",
    "\n",
    "def movie_detail_extraction(movie_id):\n",
    "    root = 'https://api.themoviedb.org/3/'\n",
    "    id =  movie_id\n",
    "    endpoint = f'movie/{movie_id}'\n",
    "    parameters = {'format':'json',\n",
    "              'api_key': TMDB_API_KEY\n",
    "             }\n",
    "    response = requests.get(root+endpoint,params = parameters, headers=headers)\n",
    "    movie_detail_txt = json.loads(response.text)\n",
    "    genres = [x[\"name\"] for x in movie_detail_txt['genres']]\n",
    "    try:\n",
    "        attribute_list =[movie_detail_txt['id'],movie_detail_txt['original_title'],genres,movie_detail_txt['release_date'],movie_detail_txt['original_language'],movie_detail_txt['overview'],movie_detail_txt['runtime'],'https://image.tmdb.org/t/p/original'+movie_detail_txt['poster_path'],\"{:.1f}\".format(float(movie_detail_txt['vote_average']))]\n",
    "    except:\n",
    "         attribute_list = [movie_detail_txt['id'],movie_detail_txt['original_title'], genres, movie_detail_txt['release_date'],movie_detail_txt['original_language'],movie_detail_txt['overview'],movie_detail_txt['runtime'],None,\"{:.1f}\".format(float(movie_detail_txt['vote_average']))]\n",
    "    return attribute_list\n",
    "\n",
    "\n"
   ]
  },
  {
   "cell_type": "code",
   "execution_count": null,
   "id": "faaf66be-6150-4907-a7af-3c9c10c30e90",
   "metadata": {
    "scrolled": true
   },
   "outputs": [],
   "source": [
    "df = movie_collection(genre_list)"
   ]
  },
  {
   "cell_type": "code",
   "execution_count": null,
   "id": "6503aba4-5a37-4334-bef1-91789d0ff190",
   "metadata": {},
   "outputs": [],
   "source": [
    "\n",
    "\n",
    "look_up_table_temp = df[['id','genre']]\n",
    "look_up_table = look_up_table_temp.explode(\"genre\").reset_index(drop=True)\n",
    "genre = look_up_table.drop_duplicates(ignore_index = True)\n",
    "genre.to_csv(\"genre.csv\",header=True,index=False)\n",
    "\n",
    "\n"
   ]
  },
  {
   "cell_type": "code",
   "execution_count": null,
   "id": "908585f4-aad7-4189-87f5-1b5b51a5504c",
   "metadata": {},
   "outputs": [],
   "source": [
    "df_movie = df.drop(['genre'],axis=1)\n",
    "df_movie = df_movie.drop_duplicates(ignore_index = True)"
   ]
  },
  {
   "cell_type": "code",
   "execution_count": null,
   "id": "b530235d-18d7-422d-9770-569605d2d08e",
   "metadata": {},
   "outputs": [],
   "source": [
    "df_movie"
   ]
  },
  {
   "cell_type": "code",
   "execution_count": null,
   "id": "1ad52590-62f6-4bdf-b568-4ecfdecd0332",
   "metadata": {},
   "outputs": [],
   "source": [
    "df_movie.to_csv(\"movies.csv\",header=True,index= False)\n"
   ]
  },
  {
   "cell_type": "code",
   "execution_count": null,
   "id": "5c5d2b55-45df-4dac-8ff2-03c3bbaeaa9d",
   "metadata": {},
   "outputs": [],
   "source": [
    "look_up_table"
   ]
  },
  {
   "cell_type": "code",
   "execution_count": null,
   "id": "37bb41e6-7100-490a-a024-7fed7c33469a",
   "metadata": {},
   "outputs": [],
   "source": [
    "look_up_table.to_csv(\"genres.csv\",header=True,index=False)"
   ]
  },
  {
   "cell_type": "code",
   "execution_count": 2,
   "id": "a68cc65b-5f3b-4c7c-af9a-033957ba163f",
   "metadata": {},
   "outputs": [],
   "source": [
    "df_movie = pd.read_csv(\"movies.csv\",lineterminator='\\n')"
   ]
  },
  {
   "cell_type": "code",
   "execution_count": null,
   "id": "80e0582a-b080-4fb8-bac8-3eb8a30e172d",
   "metadata": {},
   "outputs": [],
   "source": [
    "\n",
    "\n",
    "\n",
    "\n",
    "# collecting the cast members for the movies.\n",
    "def cast_collection(id_list):\n",
    "    counter = 0\n",
    "    cast_df = pd.DataFrame(columns= ['movie_id','cast_member_id','gender','known_for_department','name','original_name','profile_path','character','popularity'])\n",
    "    for id in id_list:\n",
    "        try:\n",
    "            headers = {\"accept\": \"application/json\"}\n",
    "            root = 'https://api.themoviedb.org/3/'\n",
    "            endpoint = f'movie/{id}/credits'\n",
    "            parameters = {\n",
    "                'format':'json',\n",
    "                'api_key': TMDB_API_KEY\n",
    "            }\n",
    "            response = requests.get(root+endpoint, params = parameters, headers=headers)\n",
    "            movie_list_txt = json.loads(response.text)\n",
    "            movie_id = movie_list_txt['id']\n",
    "            for cast in movie_list_txt[\"cast\"]:\n",
    "                cast_attribute =[movie_id,cast['id'],cast['gender'],cast['known_for_department'],cast['name'],\n",
    "                                 cast['original_name'],\n",
    "                                'https://image.tmdb.org/t/p/original'+cast['profile_path'],\n",
    "                                 cast['character'],cast['popularity']]\n",
    "                cast_df.loc[len(cast_df)] = cast_attribute\n",
    "        except:\n",
    "            continue\n",
    "        counter+=1\n",
    "    return cast_df\n",
    "\n",
    "\n",
    "# first we create a look up table of all the movie_id and cast_member_id. \n",
    "movie_cast_lookup = df_cast[[\"movie_id\",\"cast_member_id\",'character']]\n",
    "cast_member_df = df_cast.drop(['movie_id','character'],axis=1)\n",
    "# drop the duplicates in the dataset\n",
    "cast_member_df =cast_member_df.drop_duplicates(ignore_index=True)\n",
    "\n"
   ]
  },
  {
   "cell_type": "code",
   "execution_count": null,
   "id": "9cf1a7cb-0858-407c-af7a-f02452b75371",
   "metadata": {},
   "outputs": [],
   "source": [
    "df_cast = cast_collection(df_movie['id'].unique())"
   ]
  },
  {
   "cell_type": "code",
   "execution_count": null,
   "id": "9291a00d-f354-41cf-b294-a46b096aba4a",
   "metadata": {},
   "outputs": [],
   "source": [
    "df_cast"
   ]
  },
  {
   "cell_type": "code",
   "execution_count": null,
   "id": "40d1e742-410e-4fac-b3f4-2af46affb006",
   "metadata": {},
   "outputs": [],
   "source": [
    "df_cast.to_csv(\"cast.csv\",header=True,index=False)"
   ]
  },
  {
   "cell_type": "code",
   "execution_count": null,
   "id": "67e7ab58-8238-4387-87c3-bd24260d5cca",
   "metadata": {},
   "outputs": [],
   "source": [
    "\n",
    "\n",
    "# first we create a look up table of all the movie_id and cast_member_id. \n",
    "movie_cast_lookup = df_cast[[\"movie_id\",\"cast_member_id\",'character']]\n",
    "cast_member_df = df_cast.drop(['movie_id','character'],axis=1)\n",
    "# drop the duplicates in the dataset\n",
    "cast_member_df =cast_member_df.drop_duplicates(ignore_index=True)\n",
    "\n",
    "\n",
    "\n"
   ]
  },
  {
   "cell_type": "code",
   "execution_count": null,
   "id": "bceab8d0-b359-4660-8858-3be6f7ac11c5",
   "metadata": {},
   "outputs": [],
   "source": [
    "## store those two tables into csv files\n",
    "cast_member_df.to_csv(\"cast_members.csv\",index=False,header=True)\n",
    "movie_cast_lookup.to_csv('cast_lookup.csv',index=False,header=True)\n"
   ]
  },
  {
   "cell_type": "code",
   "execution_count": null,
   "id": "8783919a-f743-4816-9601-926fc2241a60",
   "metadata": {},
   "outputs": [],
   "source": [
    "\n",
    "\n",
    "# create movie release dataframes \n",
    "def realease_date_collection(id_list):\n",
    "    counter = 0\n",
    "    release_date_df = pd.DataFrame(columns= ['movie_id','iso_3166_1','release_date','type'])\n",
    "    # for each of the movie in the movies data frame, we make an API call to extract their release date info\n",
    "    for id in id_list:\n",
    "        try:\n",
    "            headers = {\"accept\": \"application/json\"}\n",
    "            root = 'https://api.themoviedb.org/3/'\n",
    "            endpoint = f'r'\n",
    "            parameters = {\n",
    "                'format':'json',\n",
    "                'api_key': TMDB_API_KEY\n",
    "            }\n",
    "            response = requests.get(root+endpoint, params = parameters, headers=headers)\n",
    "            release_txt = json.loads(response.text)\n",
    "            movie_id = release_txt['id']\n",
    "            for country in release_txt[\"results\"]:\n",
    "                iso_3166_1 = country['iso_3166_1'] \n",
    "                release_info= country['release_dates'][0]\n",
    "                date_string = release_info['release_date']\n",
    "                type = release_info['type']\n",
    "                date_lst = [movie_id,iso_3166_1,date_string,type]\n",
    "                release_date_df.loc[len(release_date_df)] = date_lst\n",
    "        except:\n",
    "            continue\n",
    "        counter+=1\n",
    "    return release_date_df\n",
    "\n",
    "df_release_date = realease_date_collection(df_movie['id'].unique())\n",
    "#adding extra columns\n",
    "release_date_day = []\n",
    "release_date_time =[]\n",
    "for i in range(len(df_release_date)):\n",
    "    release_date_day.append(df_release_date.iloc[i,2][:9])\n",
    "    release_date_time.append(df_release_date.iloc[i,2][11:-2])\n",
    "df_release_date['release_date_day'] = release_date_day\n",
    "df_release_date['release_date_time'] = release_date_time\n",
    "\n"
   ]
  },
  {
   "cell_type": "code",
   "execution_count": null,
   "id": "aaa85a76-813d-4031-80bf-9f0ae96b85d9",
   "metadata": {},
   "outputs": [],
   "source": []
  },
  {
   "cell_type": "code",
   "execution_count": null,
   "id": "5c802b83-3f22-42cc-b09e-446922ec6eb0",
   "metadata": {},
   "outputs": [],
   "source": [
    "df_release_date = pd.read_csv(\"movie_release_date.csv\")"
   ]
  },
  {
   "cell_type": "code",
   "execution_count": null,
   "id": "0de87919-87d0-4091-850b-372a341a9f61",
   "metadata": {},
   "outputs": [],
   "source": [
    "#df_release_date.to_csv(\"movie_release_date.csv\",header=True,index=False)"
   ]
  },
  {
   "cell_type": "code",
   "execution_count": null,
   "id": "01cce908-6d76-4ec5-946a-d27595b0b120",
   "metadata": {},
   "outputs": [],
   "source": [
    "df_release_date"
   ]
  },
  {
   "cell_type": "code",
   "execution_count": null,
   "id": "2df5ce26-ee18-41f4-8770-19f0798ea392",
   "metadata": {},
   "outputs": [],
   "source": [
    "release_date_day = []\n",
    "release_date_time =[]\n",
    "for i in range(len(df_release_date)):\n",
    "    release_date_day.append(df_release_date.iloc[i,2][:9])\n",
    "    release_date_time.append(df_release_date.iloc[i,2][11:-2])\n",
    "\n",
    "df_release_date['release_date_day'] = release_date_day\n",
    "df_release_date['release_date_time'] = release_date_time\n",
    "\n"
   ]
  },
  {
   "cell_type": "code",
   "execution_count": null,
   "id": "4180372d-954e-41ce-a0ba-c32549bc642c",
   "metadata": {},
   "outputs": [],
   "source": [
    "df_release_date"
   ]
  },
  {
   "cell_type": "code",
   "execution_count": null,
   "id": "2f24d4aa-7e21-4c26-aca9-aa1db954550f",
   "metadata": {},
   "outputs": [],
   "source": [
    "\n",
    "# extract the iso from the countries\n",
    "from iso3166 import countries\n",
    "def extract_info_from_iso(lst):\n",
    "    return_lst = [[],[]]\n",
    "    for i in lst:\n",
    "        try:\n",
    "            return_lst[0].append(countries.get(i).alpha3)\n",
    "            return_lst[1].append(countries.get(i).name)\n",
    "        except:\n",
    "            print(countries.get(i))\n",
    "    return return_lst\n",
    "\n",
    "\n"
   ]
  },
  {
   "cell_type": "code",
   "execution_count": null,
   "id": "c3525e5f-1f81-44f3-bc0f-0fa28db9cceb",
   "metadata": {},
   "outputs": [],
   "source": [
    "df_release_update = df_release_date.loc[(df_release_date['iso_3166_1'] != 'CS')& (df_release_date['iso_3166_1'] != 'SU')&(df_release_date['iso_3166_1'] != 'XC')&(df_release_date['iso_3166_1'] != 'YU')&(df_release_date['iso_3166_1'] != 'XG')&(df_release_date['iso_3166_1'] != 'AN')]"
   ]
  },
  {
   "cell_type": "code",
   "execution_count": null,
   "id": "1b5d391b-a674-4574-8260-4f0bfbe91b0d",
   "metadata": {},
   "outputs": [],
   "source": [
    "df_release_update = df_release_update.dropna(subset=['iso_3166_1'],ignore_index = True)"
   ]
  },
  {
   "cell_type": "code",
   "execution_count": null,
   "id": "ca079ea4-06e3-41e9-8f32-f86c05e6dc84",
   "metadata": {},
   "outputs": [],
   "source": [
    "lst = extract_info_from_iso(list(df_release_update['iso_3166_1']))"
   ]
  },
  {
   "cell_type": "code",
   "execution_count": null,
   "id": "fe8e4f88-3d44-43a9-a34c-7059ac899ac6",
   "metadata": {},
   "outputs": [],
   "source": [
    "df_release_update['alpha3'] = lst[0]\n",
    "df_release_update['name'] = lst[1]"
   ]
  },
  {
   "cell_type": "code",
   "execution_count": null,
   "id": "e217b4c5-f58c-48cb-be48-dff437833973",
   "metadata": {},
   "outputs": [],
   "source": [
    "## manipulated the data to make it look better\n",
    "df_release_update = df_release_update.replace({\"type\":{1:'Premiere',2:\"Theatrical (limited)\",3:\"Theatrical\",\n",
    "                                                      4:\"Digital\",5:\"Physical\",6:\"TV\"}})\n",
    "df_release_update = df_release_update.drop('release_date',axis= 1)\n",
    "df_release_update = df_release_update.rename(columns={\"type\": \"release_type\", \"release_date_day\": \"release_date\",\"release_date_time\":\"release_time\"})\n"
   ]
  },
  {
   "cell_type": "code",
   "execution_count": null,
   "id": "b814d749-f170-4e99-a463-58c6751337b4",
   "metadata": {},
   "outputs": [],
   "source": [
    "df_release_update = pd.read_csv(\"movie_release_date.csv\")\n",
    "country_code_lookup = pd.read_csv(\"country_code_lookup.csv\")\n",
    "df_release_update_new = pd.merge(df_release_update,country_code_lookup, left_on = 'iso_3166_1', right_on = 'iso_3166_1', how = 'inner')\n",
    "df_release_update_new"
   ]
  },
  {
   "cell_type": "code",
   "execution_count": null,
   "id": "3eb3d97c-ddac-4e06-aa29-df5ee5595e80",
   "metadata": {},
   "outputs": [],
   "source": [
    "df_release_update"
   ]
  },
  {
   "cell_type": "code",
   "execution_count": null,
   "id": "0d8ee8b0-cc0b-46ef-ba01-a5f590407e42",
   "metadata": {
    "scrolled": true
   },
   "outputs": [],
   "source": [
    "oppen =df_release_update_new.query(\"movie_id == 872585 \")\n",
    "print(oppen)\n",
    "fig = px.choropleth(oppen, locations=\"alpha3\", hover_name=\"name\", color = \"release_type\", hover_data = ['release_date','release_time'])\n",
    "fig.show()"
   ]
  },
  {
   "cell_type": "code",
   "execution_count": null,
   "id": "de1fa13f-15af-4199-8c43-5e3337b4708a",
   "metadata": {},
   "outputs": [],
   "source": [
    "\n",
    "unique_values = df_release_update['iso_3166_1'].unique()\n",
    "return_lst = extract_info_from_iso(unique_values)\n",
    "alpha3 = return_lst[0]\n",
    "name = return_lst[1]\n",
    "country_code_lookup = pd.DataFrame(data = {\"iso_3166_1\":unique_values,'alpha3':alpha3,'name':name})\n",
    "country_code_lookup"
   ]
  },
  {
   "cell_type": "code",
   "execution_count": null,
   "id": "6b44e0c0-6fc1-420d-9b13-bf9cd7c32552",
   "metadata": {},
   "outputs": [],
   "source": [
    "df_release_update = df_release_update.drop(['alpha3','name'],axis =1)"
   ]
  },
  {
   "cell_type": "code",
   "execution_count": null,
   "id": "ef22e208-136e-4038-960d-7078b154ff17",
   "metadata": {},
   "outputs": [],
   "source": [
    "df_release_update"
   ]
  },
  {
   "cell_type": "code",
   "execution_count": null,
   "id": "04d7196e-2e43-4a05-9a32-aa81c9800b34",
   "metadata": {},
   "outputs": [],
   "source": [
    "# df_release_update.to_csv(\"movie_release_date.csv\",header=True,index=False)\n",
    "# country_code_lookup.to_csv(\"country_code_lookup.csv\",header=True,index=False)"
   ]
  },
  {
   "cell_type": "code",
   "execution_count": 3,
   "id": "7d626dc0-df3a-4c24-998a-d38e90ab6ee4",
   "metadata": {},
   "outputs": [],
   "source": [
    "def comments_collection(id_list):\n",
    "    counter = 0\n",
    "    reviews_df = pd.DataFrame(columns= ['movie_id','author_name','creat_date','rating','content'])\n",
    "    for id in id_list:\n",
    "        try:\n",
    "            headers = {\"accept\": \"application/json\"}\n",
    "            root = 'https://api.themoviedb.org/3/'\n",
    "            endpoint = f'movie/{id}/reviews'\n",
    "            parameters = {\n",
    "                'format':'json',\n",
    "                'language':'en-US',\n",
    "                'page':1,\n",
    "                'api_key': TMDB_API_KEY\n",
    "            }\n",
    "            response = requests.get(root+endpoint, params = parameters, headers=headers)\n",
    "            release_txt = json.loads(response.text)\n",
    "            movie_id = release_txt['id']\n",
    "            for reviews in release_txt[\"results\"]:\n",
    "                author = reviews['author']\n",
    "                create_date = reviews['created_at'][:10]\n",
    "                rating= reviews['author_details']['rating']\n",
    "                comment = reviews['content']\n",
    "                review_lst = [movie_id,author,create_date,rating,comment]\n",
    "                reviews_df.loc[len(reviews_df)] = review_lst\n",
    "        except:\n",
    "            continue\n",
    "        counter+=1\n",
    "        if(counter%100==0):\n",
    "            print(counter)\n",
    "        \n",
    "    return reviews_df"
   ]
  },
  {
   "cell_type": "code",
   "execution_count": 4,
   "id": "bed9fe72-96b0-42cc-8b22-bd7e926d4332",
   "metadata": {},
   "outputs": [
    {
     "name": "stdout",
     "output_type": "stream",
     "text": [
      "100\n",
      "200\n",
      "300\n",
      "400\n",
      "500\n",
      "600\n",
      "700\n",
      "800\n",
      "900\n",
      "1000\n",
      "1100\n",
      "1200\n",
      "1300\n",
      "1400\n",
      "1500\n",
      "1600\n",
      "1700\n",
      "1800\n",
      "1900\n",
      "2000\n",
      "2100\n",
      "2200\n",
      "2300\n",
      "2400\n",
      "2500\n",
      "2600\n",
      "2700\n",
      "2800\n",
      "2900\n",
      "3000\n",
      "3100\n",
      "3200\n",
      "3300\n",
      "3400\n",
      "3500\n",
      "3600\n",
      "3700\n",
      "3800\n",
      "3900\n",
      "4000\n",
      "4100\n",
      "4200\n",
      "4300\n",
      "4400\n",
      "4500\n",
      "4600\n",
      "4700\n",
      "4800\n",
      "4900\n",
      "5000\n",
      "5100\n",
      "5200\n",
      "5300\n",
      "5400\n",
      "5500\n",
      "5600\n",
      "5700\n",
      "5800\n",
      "5900\n",
      "6000\n",
      "6100\n",
      "6200\n",
      "6300\n",
      "6400\n",
      "6500\n",
      "6600\n",
      "6700\n",
      "6800\n",
      "6900\n",
      "7000\n",
      "7100\n",
      "7200\n",
      "7300\n",
      "7400\n",
      "7500\n",
      "7600\n",
      "7700\n",
      "7800\n",
      "7900\n",
      "8000\n",
      "8100\n",
      "8200\n",
      "8300\n",
      "8400\n",
      "8500\n",
      "8600\n",
      "8700\n",
      "8800\n",
      "8900\n",
      "9000\n",
      "9100\n",
      "9200\n",
      "9300\n",
      "9400\n",
      "9500\n",
      "9600\n",
      "9700\n",
      "9800\n",
      "9900\n"
     ]
    }
   ],
   "source": [
    "review_df = comments_collection(df_movie['id'].unique())"
   ]
  },
  {
   "cell_type": "code",
   "execution_count": null,
   "id": "2c2884a2-29cf-495b-815b-43176a27eb18",
   "metadata": {},
   "outputs": [],
   "source": [
    "review_df = review_df.dropna(subset=['rating'],ignore_index = True)"
   ]
  },
  {
   "cell_type": "code",
   "execution_count": null,
   "id": "c73e33ab-422b-471c-a1c9-dc5d9ee86900",
   "metadata": {},
   "outputs": [],
   "source": [
    "review_df"
   ]
  },
  {
   "cell_type": "code",
   "execution_count": null,
   "id": "60098d0b-5759-4f2f-b362-927bdd09e126",
   "metadata": {},
   "outputs": [],
   "source": [
    "review_df.to_csv(\"reviews.csv\",index=False,header=True)"
   ]
  },
  {
   "cell_type": "code",
   "execution_count": null,
   "id": "ab592e00-1308-4b78-a6de-492881401a4b",
   "metadata": {},
   "outputs": [],
   "source": [
    "df_movie"
   ]
  },
  {
   "cell_type": "code",
   "execution_count": null,
   "id": "66b512e7-95c6-4a9d-b02f-31cc26b1ecee",
   "metadata": {},
   "outputs": [],
   "source": [
    "movie_df = df_movie.dropna(ignore_index = True)\n"
   ]
  },
  {
   "cell_type": "code",
   "execution_count": null,
   "id": "482ba4db-3446-4753-bea4-77517483fb21",
   "metadata": {},
   "outputs": [],
   "source": [
    "movie_df[\"year\"] = movie_df['release_date'].str[:4].astype('int')\n"
   ]
  },
  {
   "cell_type": "code",
   "execution_count": null,
   "id": "d983e8c0-c02d-454b-8513-7b4c082510b6",
   "metadata": {},
   "outputs": [],
   "source": [
    "movie_df.to_csv(\"movies.csv\",header=True,index=False)"
   ]
  },
  {
   "cell_type": "code",
   "execution_count": null,
   "id": "e0348674-2240-400b-80e2-e8fa9719dd48",
   "metadata": {},
   "outputs": [],
   "source": []
  }
 ],
 "metadata": {
  "kernelspec": {
   "display_name": "Python 3 (ipykernel)",
   "language": "python",
   "name": "python3"
  },
  "language_info": {
   "codemirror_mode": {
    "name": "ipython",
    "version": 3
   },
   "file_extension": ".py",
   "mimetype": "text/x-python",
   "name": "python",
   "nbconvert_exporter": "python",
   "pygments_lexer": "ipython3",
   "version": "3.11.4"
  }
 },
 "nbformat": 4,
 "nbformat_minor": 5
}
